{
  "nbformat": 4,
  "nbformat_minor": 0,
  "metadata": {
    "colab": {
      "name": "Futures of Cordoba(part 1).ipynb",
      "provenance": [],
      "collapsed_sections": [],
      "authorship_tag": "ABX9TyO7STMbnpgbwPZDDCS/9E9J"
    },
    "kernelspec": {
      "name": "python3",
      "display_name": "Python 3"
    }
  },
  "cells": [
    {
      "cell_type": "markdown",
      "metadata": {
        "id": "taKG5BpUwUhx",
        "colab_type": "text"
      },
      "source": [
        "![Encabezado de Córdoba](https://ocio.renfe.com/ImageCache/get/renfeDestinationHeader/1005.jpg)\n",
        "<sub><sub>Source of the image: [ocio.Renfe.com](https://ocio.renfe.com/es/cordoba/tren-cordoba-experience?showprice=true&noautoload=true)\n",
        "\n"
      ]
    },
    {
      "cell_type": "markdown",
      "metadata": {
        "id": "J-4K5HPMuF0L",
        "colab_type": "text"
      },
      "source": [
        "#**Futures of Cordova:** Applied Data Science Capstone Project\n",
        "##_**Futuros de Córdoba:** Proyecto aplicado de ciencia de datos_\n",
        "\n",
        "\n",
        "This is the final project for the completion of the [IBM Data Science Professional Certificate](https://www.coursera.org/professional-certificates/ibm-data-science). \n",
        "\n",
        "The current idea for this project is considerably different from the one that was being considered before. That change has been caused by the considerable effect that the global COVID-19 Pandemic is causing right now and by the possibility that my country, Spain, will enter a recession again. For that reason, the starting point of that project is a very personal one. However, this will not prevent me from taking a point of view as objective as possible. If there is any inconsistency in the project, it would be of great help to know it so that it can be corrected.\n",
        "\n"
      ]
    },
    {
      "cell_type": "markdown",
      "metadata": {
        "id": "R0WYHEGAuGEA",
        "colab_type": "text"
      },
      "source": [
        "\n",
        "##**The point**\n",
        "\n",
        "**The story:**\n",
        " \n",
        "When I was 16 years old I lived through the changes created by the last great global financial crisis, which hit Spain extremely hard in 2011. I remember a change in the lifestyles of all people I knew, including myself. There is an image of all the businesses in main streets of my city, Cordova, shut down that made a tremendous contrast with what I had been experiencing until that moment and that I now consider opulence. What was until then a normal commodity became a luxury item, and some basic needs became a commodity. Public healthcare was semi-privatised in some regions and thousands of young people who had abandoned their studies to go to work got stranded in a situation of unemployment or working in the black economy. Spain has never recovered said recession. \n",
        "\n",
        "That crisis made deep changes in how people lived and how people acted towards most aspects of our life. Yet, it is very difficult to reach a certain level of information or data about the specific changes that happened in a certain place. \n",
        "\n",
        "**The objective:**\n",
        "\n",
        "The only aim of this project is to gather and explain analysed data related to the economic activity of the city of Cordova now with the only purpose of making it available for the possibility of repeating and comparing the same analysis after the COVID-19 Pandemic.\n",
        "\n",
        "##**Córdoba**\n",
        "\n",
        "The city that is going to be studied is Cordova (Córdoba),located in the southern Spanish region of Andalusia and with a population close to 330,000 people. (Ayto. Córdoba, 2019). \n",
        "\n",
        "**History**\n",
        "\n",
        "Cordova has a long history, having existed at least since the eight century BC. In the year 711 AD. it became the capital of what would become the Al-Andalus empire, growing to a population close to one million inhabitants. Many of the historic places that have been bringing tourists to the city until now have their origin in that historic period. After the decadence of the empire and its collapse the city was conquered by the northern Kingdom of Castilla in 1236 (Turismo de Córdoba, s.f.).\n",
        "\n",
        "It is remarkable to know that, almost 800 years after that, the economy of the city has been running, in part, thanks to the people that come to visit the historic places of that period. The _Mezquita-catedral de Córdoba_ alone was visited by almost two million people in 2019 (Europa Press, 2019).\n",
        "\n",
        "**Gastronomics**\n",
        "\n",
        "Another important economic motor of the city is Gastronomics. Some of the most famous foods of Spain have its origin in the region. Which is why it is also an influential factor in tourism (Luque, A., 2020).\n",
        "\n",
        "**The Spring festivals**\n",
        "\n",
        "The moment in which the quarantine was declared makes it possible that it will be coincident with some of the most important festivities of the city, which are concentrated in April and May. Those festivities are responsible for bringing thousands of people to Córdoba, and some of the most important of those events have already been canceled or delayed (Ávalos, R. 2020).\n",
        "\n",
        "It is accepted that the tourism is a fundamental axis for the economy of the city. That tourism has been notably affected by the current pandemic, which is expected to cause loses running to millions of euros for the local economy (Cordópolis, 2020). How that situation will shape the local economy in the next few years is yet to be seen.\n",
        "\n",
        "\n",
        "##**The data**\n",
        "\n",
        "The data for this study have been selected to shape a portrait of a part of the economic activity of the city that is very related to tourism, taking advantage of the kinds of businesses that can be pointed using Foursquare API. \n",
        "\n",
        "**Urban organization**\n",
        "\n",
        "The city of Cordova is divided in ten districts, 8 of which are in the central urban area. Those districts are divided in neighbourhoods (Barrios) of different populations and areas. \n",
        "\n",
        ">Cordova City Hall (2019). _Datos estadísticos extraídos por: Barrios, Distritos - sección, Entidades, Genéricas y Niveles de Estudio._ Extracted from: [https://www.cordoba.es/la-ciudad/cifras-estadisticas/estadisticas-de-poblacion](https://www.cordoba.es/la-ciudad/cifras-estadisticas/estadisticas-de-poblacion)\n",
        "\n",
        "The distribution of the city in neighbourhoods and districts will be used as an asset for the analysis of the data, as it is a form of an already existing division.\n",
        "\n",
        "Because, after many tries, the automatic extraction of the coordinates of the different neighbourhoods has not been successful, a decision has been made of creating a self made database of the coordinates using the online tool [Convertidor de Coordenadas GPS](https://www.coordenadas-gps.com/convertidor-de-coordenadas-gps). The resulting table is shown below:\n",
        "\n",
        ">Table of Districts, neighbourhoods and Coordinates of Cordova:\n"
      ]
    },
    {
      "cell_type": "code",
      "metadata": {
        "id": "4O9hxu-BAofp",
        "colab_type": "code",
        "outputId": "c9fed5c6-0349-4889-ba90-38b7d6ec276c",
        "colab": {
          "base_uri": "https://localhost:8080/",
          "height": 212
        }
      },
      "source": [
        "import pandas as pd\n",
        "barrios=pd.read_csv('https://raw.githubusercontent.com/David-Sanchez-Simoni/FuturesofCordova/master/Barrios%20CORDOBA%20-%20Sheet1.csv')\n",
        "barrios.head()"
      ],
      "execution_count": 0,
      "outputs": [
        {
          "output_type": "stream",
          "text": [
            "ERROR! Session/line number was not unique in database. History logging moved to new session 59\n"
          ],
          "name": "stdout"
        },
        {
          "output_type": "execute_result",
          "data": {
            "text/html": [
              "<div>\n",
              "<style scoped>\n",
              "    .dataframe tbody tr th:only-of-type {\n",
              "        vertical-align: middle;\n",
              "    }\n",
              "\n",
              "    .dataframe tbody tr th {\n",
              "        vertical-align: top;\n",
              "    }\n",
              "\n",
              "    .dataframe thead th {\n",
              "        text-align: right;\n",
              "    }\n",
              "</style>\n",
              "<table border=\"1\" class=\"dataframe\">\n",
              "  <thead>\n",
              "    <tr style=\"text-align: right;\">\n",
              "      <th></th>\n",
              "      <th>Distrito</th>\n",
              "      <th>Barrio</th>\n",
              "      <th>Latitude</th>\n",
              "      <th>Longitude</th>\n",
              "    </tr>\n",
              "  </thead>\n",
              "  <tbody>\n",
              "    <tr>\n",
              "      <th>0</th>\n",
              "      <td>Centro</td>\n",
              "      <td>San Basilio</td>\n",
              "      <td>37.875000</td>\n",
              "      <td>-4.783330</td>\n",
              "    </tr>\n",
              "    <tr>\n",
              "      <th>1</th>\n",
              "      <td>Centro</td>\n",
              "      <td>Huerta del Rey - Vallellano</td>\n",
              "      <td>37.878191</td>\n",
              "      <td>-4.784656</td>\n",
              "    </tr>\n",
              "    <tr>\n",
              "      <th>2</th>\n",
              "      <td>Centro</td>\n",
              "      <td>Mezquita</td>\n",
              "      <td>37.879432</td>\n",
              "      <td>-4.779865</td>\n",
              "    </tr>\n",
              "    <tr>\n",
              "      <th>3</th>\n",
              "      <td>Centro</td>\n",
              "      <td>San Francisco - Ribera</td>\n",
              "      <td>37.881721</td>\n",
              "      <td>-4.774905</td>\n",
              "    </tr>\n",
              "    <tr>\n",
              "      <th>4</th>\n",
              "      <td>Centro</td>\n",
              "      <td>Santiago</td>\n",
              "      <td>37.882216</td>\n",
              "      <td>-4.769474</td>\n",
              "    </tr>\n",
              "  </tbody>\n",
              "</table>\n",
              "</div>"
            ],
            "text/plain": [
              "  Distrito                       Barrio   Latitude  Longitude\n",
              "0   Centro                  San Basilio  37.875000  -4.783330\n",
              "1   Centro  Huerta del Rey - Vallellano  37.878191  -4.784656\n",
              "2   Centro                     Mezquita  37.879432  -4.779865\n",
              "3   Centro       San Francisco - Ribera  37.881721  -4.774905\n",
              "4   Centro                     Santiago  37.882216  -4.769474"
            ]
          },
          "metadata": {
            "tags": []
          },
          "execution_count": 1
        }
      ]
    },
    {
      "cell_type": "markdown",
      "metadata": {
        "id": "9joBiEa-BCRX",
        "colab_type": "text"
      },
      "source": [
        "**Foursquare API**\n",
        "\n",
        "Foursquare registers an important quantity of businesses that might be related to tourism such as hotels and restaurants in different venues. That makes Foursquare an interesting tool for studying those businesses that might be affected in the close future by the current pandemic and the possible economic recession. In order to study that, a sample of those activities is going to be extracted from Foursquare using as sample points the reference centers of each neighbourhood of the city. \n",
        "\n",
        ">Foursquare Developers: [https://developer.foursquare.com/](https://developer.foursquare.com/)\n",
        "\n",
        "With the data mentioned before it is expected to obtain a portrait of the economic activity that might be affected by a shortage of tourism in the near future, and to mark a reference that can be used in the future to detect changes in some of those activities."
      ]
    },
    {
      "cell_type": "markdown",
      "metadata": {
        "id": "HTNZ5Lh-q11U",
        "colab_type": "text"
      },
      "source": [
        "##**Bibliography**\n",
        "\n",
        "\n",
        "\n",
        ">**Ávalos, R.** (03/14/2020)_Suspendidas las procesiones de Semana Santa_. Recovered from: [https://cordopolis.es/2020/03/14/suspendidas-las-procesiones-de-semana-santa/](https://cordopolis.es/2020/03/14/suspendidas-las-procesiones-de-semana-santa/)\n",
        ">\n",
        ">**Cordópolis**(03/22/2020)_El turismo se enfrenta en Córdoba a pérdidas de unos 72 millones de euros_. Recovered from: https://cordopolis.es/2020/03/22/el-turismo-se-enfrenta-en-cordoba-a-perdidas-de-unos-72-millones-de-euros/\n",
        ">\n",
        ">**Europa Press** (02/01/2020) _La Mezquita de Córdoba vuelve a batir el récord de visitantes con más de 1.950.000._ Recovered from: [https://www.europapress.es/andalucia/noticia-mezquita-catedral-cordoba-vuelve-batir-record-visitantes-mas-1950000-20190201123638.html](https://www.europapress.es/andalucia/noticia-mezquita-catedral-cordoba-vuelve-batir-record-visitantes-mas-1950000-20190201123638.html)\n",
        ">\n",
        ">**Luque, A.** (01/24/2020)_Córdoba muestra en el Kitchen Club de Madrid por qué su gastronomía atrae cada vez a más turistas_. Recovered from: https://cordopolis.es/2020/01/24/cordoba-muestra-en-el-kitchen-club-de-madrid-por-que-su-gastronomia-atrae-cada-vez-a-mas-turistas/\n",
        ">\n",
        ">**Turismo de Córdoba** (s.f.) _Historia [de Córdoba]._ Recovered from: [https://www.turismodecordoba.org/historia-1](https://www.turismodecordoba.org/historia-1)\n",
        "\n"
      ]
    },
    {
      "cell_type": "markdown",
      "metadata": {
        "id": "6SlLL_tqnIlk",
        "colab_type": "text"
      },
      "source": [
        "\n",
        "Author of the project: [David Sánchez Simoni](https://www.linkedin.com/in/simonidesign/)"
      ]
    }
  ]
}